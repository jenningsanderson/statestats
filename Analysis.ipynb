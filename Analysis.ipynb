{
 "cells": [
  {
   "cell_type": "code",
   "execution_count": 10,
   "metadata": {},
   "outputs": [],
   "source": [
    "import pandas as pd\n",
    "import json\n",
    "%matplotlib inline"
   ]
  },
  {
   "cell_type": "code",
   "execution_count": 11,
   "metadata": {},
   "outputs": [],
   "source": [
    "def clean_name(name):\n",
    "    return name.lower().replace(' ',\"_\")"
   ]
  },
  {
   "cell_type": "code",
   "execution_count": 12,
   "metadata": {},
   "outputs": [],
   "source": [
    "bounds_file = 'data/states.geojson'"
   ]
  },
  {
   "cell_type": "code",
   "execution_count": 13,
   "metadata": {},
   "outputs": [],
   "source": [
    "boundaries = json.load(open(bounds_file,'r'))"
   ]
  },
  {
   "cell_type": "code",
   "execution_count": 17,
   "metadata": {},
   "outputs": [
    {
     "name": "stdout",
     "output_type": "stream",
     "text": [
      "Found 57 boundaries: \n",
      "\talaska\n",
      "\talabama\n",
      "\tarkansas\n",
      "\tamerican_samoa\n",
      "\tarizona\n",
      "\tcalifornia\n",
      "\tcolorado\n",
      "\tconnecticut\n",
      "\tdistrict_of_colombia\n",
      "\tdelaware\n"
     ]
    }
   ],
   "source": [
    "print(\"Found {} boundaries: \".format(str(len(boundaries['features']))))\n",
    "\n",
    "user_files = []\n",
    "geojson_files = []\n",
    "\n",
    "for area in boundaries['features'][:10]:\n",
    "    name = clean_name(area['properties']['NAME'])\n",
    "    print(\"\\t{}\".format(name))    \n",
    "\n",
    "    user_files.append(\"results/{}_users.json\".format(name))\n",
    "    geojson_files.append(\"results/{}.geojson\".format(name))\n",
    "    \n"
   ]
  },
  {
   "cell_type": "code",
   "execution_count": 19,
   "metadata": {},
   "outputs": [
    {
     "data": {
      "text/plain": [
       "['results/alaska.geojson',\n",
       " 'results/alabama.geojson',\n",
       " 'results/arkansas.geojson',\n",
       " 'results/american_samoa.geojson',\n",
       " 'results/arizona.geojson',\n",
       " 'results/california.geojson',\n",
       " 'results/colorado.geojson',\n",
       " 'results/connecticut.geojson',\n",
       " 'results/district_of_colombia.geojson',\n",
       " 'results/delaware.geojson']"
      ]
     },
     "execution_count": 19,
     "metadata": {},
     "output_type": "execute_result"
    }
   ],
   "source": [
    "feature_collection = {'type':\"FeatureCollection\",\"features\":[]}\n",
    "for file in geojson_files:\n",
    "    json.load(open(file))"
   ]
  },
  {
   "cell_type": "code",
   "execution_count": null,
   "metadata": {},
   "outputs": [],
   "source": []
  }
 ],
 "metadata": {
  "kernelspec": {
   "display_name": "Python 3",
   "language": "python",
   "name": "python3"
  },
  "language_info": {
   "codemirror_mode": {
    "name": "ipython",
    "version": 3
   },
   "file_extension": ".py",
   "mimetype": "text/x-python",
   "name": "python",
   "nbconvert_exporter": "python",
   "pygments_lexer": "ipython3",
   "version": "3.5.2"
  }
 },
 "nbformat": 4,
 "nbformat_minor": 2
}
